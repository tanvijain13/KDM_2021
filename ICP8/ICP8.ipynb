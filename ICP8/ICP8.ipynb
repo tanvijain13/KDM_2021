{
  "nbformat": 4,
  "nbformat_minor": 0,
  "metadata": {
    "colab": {
      "name": "ICP8.ipynb",
      "provenance": [],
      "toc_visible": true
    },
    "kernelspec": {
      "name": "python3",
      "display_name": "Python 3"
    }
  },
  "cells": [
    {
      "cell_type": "code",
      "metadata": {
        "id": "TwvmHMzaNp8H",
        "colab": {
          "base_uri": "https://localhost:8080/"
        },
        "outputId": "82776e9d-269c-40f1-a9ef-239a991fe0ea"
      },
      "source": [
        "!pip install textacy\n",
        "import spacy\n",
        "import textacy"
      ],
      "execution_count": 2,
      "outputs": [
        {
          "output_type": "stream",
          "text": [
            "Requirement already satisfied: textacy in /usr/local/lib/python3.7/dist-packages (0.10.1)\n",
            "Requirement already satisfied: srsly>=0.0.5 in /usr/local/lib/python3.7/dist-packages (from textacy) (1.0.5)\n",
            "Requirement already satisfied: spacy<3.0.0,>=2.2.0 in /usr/local/lib/python3.7/dist-packages (from textacy) (2.2.4)\n",
            "Requirement already satisfied: requests>=2.10.0 in /usr/local/lib/python3.7/dist-packages (from textacy) (2.23.0)\n",
            "Requirement already satisfied: scipy>=0.17.0 in /usr/local/lib/python3.7/dist-packages (from textacy) (1.4.1)\n",
            "Requirement already satisfied: jellyfish>=0.7.0 in /usr/local/lib/python3.7/dist-packages (from textacy) (0.8.2)\n",
            "Requirement already satisfied: cachetools>=2.0.1 in /usr/local/lib/python3.7/dist-packages (from textacy) (4.2.1)\n",
            "Requirement already satisfied: scikit-learn<0.24.0,>=0.19.0 in /usr/local/lib/python3.7/dist-packages (from textacy) (0.22.2.post1)\n",
            "Requirement already satisfied: pyphen>=0.9.4 in /usr/local/lib/python3.7/dist-packages (from textacy) (0.10.0)\n",
            "Requirement already satisfied: cytoolz>=0.8.0 in /usr/local/lib/python3.7/dist-packages (from textacy) (0.11.0)\n",
            "Requirement already satisfied: pyemd>=0.5.0 in /usr/local/lib/python3.7/dist-packages (from textacy) (0.5.1)\n",
            "Requirement already satisfied: numpy>=1.17.0 in /usr/local/lib/python3.7/dist-packages (from textacy) (1.19.5)\n",
            "Requirement already satisfied: joblib>=0.13.0 in /usr/local/lib/python3.7/dist-packages (from textacy) (1.0.1)\n",
            "Requirement already satisfied: networkx>=2.0 in /usr/local/lib/python3.7/dist-packages (from textacy) (2.5)\n",
            "Requirement already satisfied: tqdm>=4.19.6 in /usr/local/lib/python3.7/dist-packages (from textacy) (4.41.1)\n",
            "Requirement already satisfied: catalogue<1.1.0,>=0.0.7 in /usr/local/lib/python3.7/dist-packages (from spacy<3.0.0,>=2.2.0->textacy) (1.0.0)\n",
            "Requirement already satisfied: murmurhash<1.1.0,>=0.28.0 in /usr/local/lib/python3.7/dist-packages (from spacy<3.0.0,>=2.2.0->textacy) (1.0.5)\n",
            "Requirement already satisfied: setuptools in /usr/local/lib/python3.7/dist-packages (from spacy<3.0.0,>=2.2.0->textacy) (54.0.0)\n",
            "Requirement already satisfied: preshed<3.1.0,>=3.0.2 in /usr/local/lib/python3.7/dist-packages (from spacy<3.0.0,>=2.2.0->textacy) (3.0.5)\n",
            "Requirement already satisfied: cymem<2.1.0,>=2.0.2 in /usr/local/lib/python3.7/dist-packages (from spacy<3.0.0,>=2.2.0->textacy) (2.0.5)\n",
            "Requirement already satisfied: blis<0.5.0,>=0.4.0 in /usr/local/lib/python3.7/dist-packages (from spacy<3.0.0,>=2.2.0->textacy) (0.4.1)\n",
            "Requirement already satisfied: wasabi<1.1.0,>=0.4.0 in /usr/local/lib/python3.7/dist-packages (from spacy<3.0.0,>=2.2.0->textacy) (0.8.2)\n",
            "Requirement already satisfied: plac<1.2.0,>=0.9.6 in /usr/local/lib/python3.7/dist-packages (from spacy<3.0.0,>=2.2.0->textacy) (1.1.3)\n",
            "Requirement already satisfied: thinc==7.4.0 in /usr/local/lib/python3.7/dist-packages (from spacy<3.0.0,>=2.2.0->textacy) (7.4.0)\n",
            "Requirement already satisfied: idna<3,>=2.5 in /usr/local/lib/python3.7/dist-packages (from requests>=2.10.0->textacy) (2.10)\n",
            "Requirement already satisfied: chardet<4,>=3.0.2 in /usr/local/lib/python3.7/dist-packages (from requests>=2.10.0->textacy) (3.0.4)\n",
            "Requirement already satisfied: urllib3!=1.25.0,!=1.25.1,<1.26,>=1.21.1 in /usr/local/lib/python3.7/dist-packages (from requests>=2.10.0->textacy) (1.24.3)\n",
            "Requirement already satisfied: certifi>=2017.4.17 in /usr/local/lib/python3.7/dist-packages (from requests>=2.10.0->textacy) (2020.12.5)\n",
            "Requirement already satisfied: toolz>=0.8.0 in /usr/local/lib/python3.7/dist-packages (from cytoolz>=0.8.0->textacy) (0.11.1)\n",
            "Requirement already satisfied: decorator>=4.3.0 in /usr/local/lib/python3.7/dist-packages (from networkx>=2.0->textacy) (4.4.2)\n",
            "Requirement already satisfied: importlib-metadata>=0.20; python_version < \"3.8\" in /usr/local/lib/python3.7/dist-packages (from catalogue<1.1.0,>=0.0.7->spacy<3.0.0,>=2.2.0->textacy) (3.7.2)\n",
            "Requirement already satisfied: typing-extensions>=3.6.4; python_version < \"3.8\" in /usr/local/lib/python3.7/dist-packages (from importlib-metadata>=0.20; python_version < \"3.8\"->catalogue<1.1.0,>=0.0.7->spacy<3.0.0,>=2.2.0->textacy) (3.7.4.3)\n",
            "Requirement already satisfied: zipp>=0.5 in /usr/local/lib/python3.7/dist-packages (from importlib-metadata>=0.20; python_version < \"3.8\"->catalogue<1.1.0,>=0.0.7->spacy<3.0.0,>=2.2.0->textacy) (3.4.1)\n"
          ],
          "name": "stdout"
        }
      ]
    },
    {
      "cell_type": "code",
      "metadata": {
        "id": "M1oaMGkgN73L"
      },
      "source": [
        "# reading input files\n",
        "f = open('text1.txt', 'r')\n",
        "# loading en_core_web_sm model\n",
        "\n",
        "nlp = spacy.load(\"en_core_web_sm\")\n",
        "doc = nlp(f.read())\n",
        "f.close()"
      ],
      "execution_count": 11,
      "outputs": []
    },
    {
      "cell_type": "code",
      "metadata": {
        "id": "EUwSZYOQNrxY",
        "colab": {
          "base_uri": "https://localhost:8080/"
        },
        "outputId": "5dc3f8d4-88d4-485f-ee17-4bac9ce88fe6"
      },
      "source": [
        "for token in doc:\n",
        "    print(token.text, token.pos_, token.dep_)"
      ],
      "execution_count": 13,
      "outputs": [
        {
          "output_type": "stream",
          "text": [
            "This DET det\n",
            "article NOUN nsubj\n",
            "has AUX ROOT\n",
            "Unlimited PROPN compound\n",
            "Access PROPN dobj\n",
            ". PUNCT punct\n",
            "For ADP prep\n",
            "more ADJ amod\n",
            "coverage NOUN pobj\n",
            ", PUNCT punct\n",
            "sign VERB ROOT\n",
            "up ADP prt\n",
            "for ADP prep\n",
            "our DET poss\n",
            "daily ADJ amod\n",
            "coronavirus PROPN compound\n",
            "newsletter NOUN pobj\n",
            ". PUNCT punct\n",
            "To PART aux\n",
            "support VERB advcl\n",
            "our DET poss\n",
            "commitment NOUN dobj\n",
            "to ADP prep\n",
            "public ADJ amod\n",
            "service NOUN compound\n",
            "journalism NOUN pobj\n",
            ": PUNCT punct\n",
            "Subscribe VERB ROOT\n",
            "Now ADV advmod\n",
            ". PUNCT punct\n",
            "\n",
            "\n",
            " SPACE \n",
            "Kansas PROPN nsubj\n",
            "will VERB aux\n",
            "move VERB ROOT\n",
            "to ADP prep\n",
            "the DET det\n",
            "next ADJ amod\n",
            "two NUM nummod\n",
            "phases NOUN pobj\n",
            "of ADP prep\n",
            "its DET poss\n",
            "COVID-19 ADJ amod\n",
            "vaccination NOUN compound\n",
            "rollout NOUN pobj\n",
            "next ADJ amod\n",
            "week NOUN npadvmod\n",
            ", PUNCT punct\n",
            "opening VERB advcl\n",
            "up ADP prt\n",
            "shots NOUN dobj\n",
            "to ADP prep\n",
            "younger ADJ amod\n",
            "adults NOUN pobj\n",
            "with ADP prep\n",
            "medical ADJ amod\n",
            "risks NOUN pobj\n",
            "like SCONJ prep\n",
            "asthma NOUN pobj\n",
            "and CCONJ cc\n",
            "essential ADJ amod\n",
            "workers NOUN conj\n",
            "such ADJ amod\n",
            "as SCONJ prep\n",
            "bank NOUN compound\n",
            "tellers NOUN pobj\n",
            ". PUNCT punct\n",
            "\n",
            "\n",
            " SPACE \n",
            "Gov. PROPN compound\n",
            "Laura PROPN compound\n",
            "Kelly PROPN nsubj\n",
            "said VERB ROOT\n",
            "Monday PROPN npadvmod\n",
            "that SCONJ mark\n",
            "Kansas PROPN nsubj\n",
            "will VERB aux\n",
            "begin VERB ccomp\n",
            "phases NOUN dobj\n",
            "three NUM npadvmod\n",
            "and CCONJ cc\n",
            "four NUM conj\n",
            "simultaneously ADV advmod\n",
            "on ADP prep\n",
            "March PROPN pobj\n",
            "22 NUM nummod\n",
            "and CCONJ cc\n",
            "that SCONJ mark\n",
            "the DET det\n",
            "state NOUN nsubj\n",
            "will VERB aux\n",
            "meet VERB conj\n",
            "President PROPN compound\n",
            "Joe PROPN compound\n",
            "Biden PROPN dobj\n",
            "’s PART punct\n",
            "deadline NOUN dobj\n",
            "to PART aux\n",
            "make VERB relcl\n",
            "every DET det\n",
            "adult NOUN nsubj\n",
            "eligible ADJ ccomp\n",
            "by ADP prep\n",
            "May PROPN pobj\n",
            "1 NUM nummod\n",
            ". PUNCT punct\n",
            "\n",
            "\n",
            " SPACE \n",
            "The DET det\n",
            "announcement NOUN nsubj\n",
            "marks VERB ROOT\n",
            "an DET det\n",
            "acceleration NOUN dobj\n",
            "in ADP prep\n",
            "the DET det\n",
            "vaccination NOUN compound\n",
            "campaign NOUN pobj\n",
            "and CCONJ cc\n",
            "comes VERB conj\n",
            "as SCONJ mark\n",
            "Kelly PROPN nsubj\n",
            "is AUX advcl\n",
            "under ADP prep\n",
            "pressure NOUN pobj\n",
            "from ADP prep\n",
            "lawmakers NOUN pobj\n",
            "to PART aux\n",
            "let VERB acl\n",
            "counties NOUN nsubj\n",
            "set VERB ccomp\n",
            "their DET poss\n",
            "own ADJ amod\n",
            "phases NOUN dobj\n",
            ". PUNCT punct\n"
          ],
          "name": "stdout"
        }
      ]
    },
    {
      "cell_type": "code",
      "metadata": {
        "id": "_NPYrvHwN4uC"
      },
      "source": [
        "tuples_list = []\n",
        "\n",
        "#extracting triplet using textacy library\n",
        "tuples = textacy.extract.subject_verb_object_triples(doc)\n",
        "tuples_to_list = list(tuples)\n",
        "if tuples_to_list != []:\n",
        "    tuples_list.append(tuples_to_list)"
      ],
      "execution_count": 5,
      "outputs": []
    },
    {
      "cell_type": "code",
      "metadata": {
        "colab": {
          "base_uri": "https://localhost:8080/"
        },
        "id": "G_yofTMBOLIJ",
        "outputId": "5639ddfa-44f1-4632-ab16-30b4b357e72b"
      },
      "source": [
        "for pair in tuples_list[0]:\n",
        "    print(pair)"
      ],
      "execution_count": 6,
      "outputs": [
        {
          "output_type": "stream",
          "text": [
            "(Kansas, will begin, phases)\n",
            "(state, will meet, Biden)\n",
            "(state, will meet, deadline)\n",
            "(announcement, marks, acceleration)\n",
            "(counties, set, phases)\n"
          ],
          "name": "stdout"
        }
      ]
    },
    {
      "cell_type": "markdown",
      "metadata": {
        "id": "eZKZZWg2OcMP"
      },
      "source": [
        "## Text 2"
      ]
    },
    {
      "cell_type": "code",
      "metadata": {
        "id": "xsoULmdQONoK"
      },
      "source": [
        "# reading input files\n",
        "f = open('text2.txt', 'r')\n",
        "# loading en_core_web_sm model\n",
        "\n",
        "nlp = spacy.load(\"en_core_web_sm\")\n",
        "doc = nlp(f.read())\n",
        "f.close()"
      ],
      "execution_count": 7,
      "outputs": []
    },
    {
      "cell_type": "code",
      "metadata": {
        "colab": {
          "base_uri": "https://localhost:8080/"
        },
        "id": "5ocxDwwdOfQa",
        "outputId": "0365a732-8406-4ff3-9850-415495e5f106"
      },
      "source": [
        "tuples_list = []\n",
        "\n",
        "#extracting triplet using textacy library\n",
        "tuples = textacy.extract.subject_verb_object_triples(doc)\n",
        "tuples_to_list = list(tuples)\n",
        "if tuples_to_list != []:\n",
        "    tuples_list.append(tuples_to_list)\n",
        "\n",
        "for pair in tuples_list[0]:\n",
        "    print(pair)"
      ],
      "execution_count": 8,
      "outputs": [
        {
          "output_type": "stream",
          "text": [
            "(who, has had, contact)\n",
            "(Symptoms, include, fever)\n",
            "(Symptoms, include, chills)\n",
            "(Symptoms, include, cough)\n",
            "(Symptoms, include, loss)\n",
            "(Symptoms, include, fatigue)\n"
          ],
          "name": "stdout"
        }
      ]
    },
    {
      "cell_type": "markdown",
      "metadata": {
        "id": "lPxBWWosOmBN"
      },
      "source": [
        "## Text 3"
      ]
    },
    {
      "cell_type": "code",
      "metadata": {
        "id": "85n_GEjOOhxN"
      },
      "source": [
        "# reading input files\n",
        "f = open('text3.txt', 'r')\n",
        "# loading en_core_web_sm model\n",
        "\n",
        "nlp = spacy.load(\"en_core_web_sm\")\n",
        "doc = nlp(f.read())\n",
        "f.close()"
      ],
      "execution_count": 9,
      "outputs": []
    },
    {
      "cell_type": "code",
      "metadata": {
        "colab": {
          "base_uri": "https://localhost:8080/"
        },
        "id": "jA7u3SfaOpoE",
        "outputId": "461d7e0a-4740-46c0-94f4-914a011106e1"
      },
      "source": [
        "tuples_list = []\n",
        "\n",
        "#extracting triplet using textacy library\n",
        "tuples = textacy.extract.subject_verb_object_triples(doc)\n",
        "tuples_to_list = list(tuples)\n",
        "if tuples_to_list != []:\n",
        "    tuples_list.append(tuples_to_list)\n",
        "\n",
        "for pair in tuples_list[0]:\n",
        "    print(pair)"
      ],
      "execution_count": 10,
      "outputs": [
        {
          "output_type": "stream",
          "text": [
            "(Kansas City, embraced, gospel)\n",
            "(it, was turning, back)\n",
            "(Kansas City, encapsulates, problems)\n",
            "(which, brought, tracts)\n"
          ],
          "name": "stdout"
        }
      ]
    },
    {
      "cell_type": "code",
      "metadata": {
        "id": "AR_tGuWmOrUH"
      },
      "source": [
        ""
      ],
      "execution_count": null,
      "outputs": []
    }
  ]
}