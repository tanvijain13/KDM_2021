{
  "nbformat": 4,
  "nbformat_minor": 0,
  "metadata": {
    "colab": {
      "name": "ICP3.ipynb",
      "provenance": [],
      "collapsed_sections": []
    },
    "kernelspec": {
      "name": "python3",
      "display_name": "Python 3"
    }
  },
  "cells": [
    {
      "cell_type": "markdown",
      "metadata": {
        "id": "8J93SJgemjFR"
      },
      "source": [
        "# Triplet Extraction "
      ]
    },
    {
      "cell_type": "code",
      "metadata": {
        "colab": {
          "base_uri": "https://localhost:8080/",
          "height": 591
        },
        "id": "84N2wkMqnDIO",
        "outputId": "6a746d84-18b4-48b1-ddee-fbb682488b4b"
      },
      "source": [
        "import spacy\n",
        "from spacy.lang.en import English\n",
        "import networkx as nx\n",
        "import matplotlib.pyplot as plt\n",
        "\n",
        "# This function is used to import text data and spliting the words\n",
        "\n",
        "def getSentences(text):\n",
        "    nlp = English()\n",
        "    nlp.add_pipe(nlp.create_pipe('sentencizer'))\n",
        "    document = nlp(text)\n",
        "    return [sent.string.strip() for sent in document.sents]\n",
        "\n",
        "# Function used to print word and token Example: \"Twenty -> nummod\"\n",
        "\n",
        "def printToken(token):\n",
        "    print(token.text, \"->\", token.dep_)\n",
        "\n",
        "def appendChunk(original, chunk):\n",
        "    return original + ' ' + chunk\n",
        "\n",
        "# Function to define all relation candidate which is used to define the given text input \n",
        "\n",
        "def isRelationCandidate(token):\n",
        "    deps = [\"ROOT\", \"adj\", \"attr\", \"agent\", \"amod\"]\n",
        "    return any(subs in token.dep_ for subs in deps)\n",
        "\n",
        "# Function to define all construction candidate which is used to define the given text input \n",
        "\n",
        "def isConstructionCandidate(token):\n",
        "    deps = [\"compound\", \"prep\", \"conj\", \"mod\"]\n",
        "    return any(subs in token.dep_ for subs in deps)\n",
        "\n",
        "# This function will pass subject, object, relation, subject construction and object contruction and print triplets of the sentence\n",
        "\n",
        "def processSubjectObjectPairs(tokens):\n",
        "    subject = ''\n",
        "    object = ''\n",
        "    relation = ''\n",
        "    subjectConstruction = ''\n",
        "    objectConstruction = ''\n",
        "    for token in tokens:\n",
        "        printToken(token)\n",
        "        if \"punct\" in token.dep_:\n",
        "            continue\n",
        "        if isRelationCandidate(token):\n",
        "            relation = appendChunk(relation, token.lemma_)\n",
        "        if isConstructionCandidate(token):\n",
        "            if subjectConstruction:\n",
        "                subjectConstruction = appendChunk(subjectConstruction, token.text)\n",
        "            if objectConstruction:\n",
        "                objectConstruction = appendChunk(objectConstruction, token.text)\n",
        "        if \"subj\" in token.dep_:\n",
        "            subject = appendChunk(subject, token.text)\n",
        "            subject = appendChunk(subjectConstruction, subject)\n",
        "            subjectConstruction = ''\n",
        "        if \"obj\" in token.dep_:\n",
        "            object = appendChunk(object, token.text)\n",
        "            object = appendChunk(objectConstruction, object)\n",
        "            objectConstruction = ''\n",
        "\n",
        "# Printing the triplets of the given sentence\n",
        "\n",
        "    print(\"***********************\")\n",
        "    print (\"The triplet of the given sentence is: \", subject.strip(), \",\", relation.strip(), \",\", object.strip())\n",
        "    print(\"***********************\")\n",
        "    return (subject.strip(), relation.strip(), object.strip())\n",
        "   \n",
        "\n",
        "# Function used to return object pairs from the sentence by using NLP_model function\n",
        "\n",
        "def processSentence(sentence):\n",
        "    tokens = nlp_model(sentence)\n",
        "    return processSubjectObjectPairs(tokens)\n",
        "\n",
        "# This function is used to plot node graph of triplets \n",
        "\n",
        "def printGraph(triples):\n",
        "    G = nx.Graph()\n",
        "    for triple in triples:\n",
        "        G.add_node(triple[0])\n",
        "        G.add_node(triple[1])\n",
        "        G.add_node(triple[2])\n",
        "        G.add_edge(triple[0], triple[1])\n",
        "        G.add_edge(triple[1], triple[2])\n",
        "\n",
        "    pos = nx.spring_layout(G)\n",
        "    plt.figure()\n",
        "    nx.draw(G, pos, edge_color='black', width=2, linewidths=2,\n",
        "            node_size=700, node_color='orange', alpha=0.9,\n",
        "            labels={node: node for node in G.nodes()})\n",
        "    plt.axis('off')\n",
        "    plt.show()\n",
        "\n",
        "if __name__ == \"__main__\":\n",
        "\n",
        "# This is sample input text\n",
        "\n",
        "    #text = \"Mold and germs can form very easily in those two rooms\"\n",
        "    text = \"Born in small town, she took the midnight train going anywhere\"\n",
        "\n",
        "    sentences = getSentences(text)\n",
        "    nlp_model = spacy.load('en_core_web_sm')\n",
        "\n",
        "    triples = []\n",
        "    print (\"Text = \", text)\n",
        "    # printing the relation and construction candidate\n",
        "    for sentence in sentences:\n",
        "        triples.append(processSentence(sentence))\n",
        "\n",
        "# Ploting the nodes of triplets\n",
        "\n",
        "    printGraph(triples)"
      ],
      "execution_count": 50,
      "outputs": [
        {
          "output_type": "stream",
          "text": [
            "Text =  Born in small town, she took the midnight train going anywhere\n",
            "Born -> advcl\n",
            "in -> prep\n",
            "small -> amod\n",
            "town -> pobj\n",
            ", -> punct\n",
            "she -> nsubj\n",
            "took -> ROOT\n",
            "the -> det\n",
            "midnight -> compound\n",
            "train -> dobj\n",
            "going -> xcomp\n",
            "anywhere -> advmod\n",
            "***********************\n",
            "The triplet of the given sentence is:  she , small take , town train\n",
            "***********************\n"
          ],
          "name": "stdout"
        },
        {
          "output_type": "display_data",
          "data": {
            "image/png": "[encoded data removed]",
            "text/plain": [
              "<Figure size 432x288 with 1 Axes>"
            ]
          },
          "metadata": {
            "tags": []
          }
        }
      ]
    },
    {
      "cell_type": "markdown",
      "metadata": {
        "id": "tQurN0qar-pR"
      },
      "source": [
        "# WordNet Tasks"
      ]
    },
    {
      "cell_type": "code",
      "metadata": {
        "colab": {
          "base_uri": "https://localhost:8080/"
        },
        "id": "UB8DHtBhmdJn",
        "outputId": "1768ab1d-3537-4d41-c64f-9e92d0aa5824"
      },
      "source": [
        "import nltk\n",
        "nltk.download('wordnet')\n",
        "\n",
        "from nltk.corpus import wordnet as wn\n",
        "# unambiguous word\n",
        "wn.synsets('motorcar')"
      ],
      "execution_count": 19,
      "outputs": [
        {
          "output_type": "stream",
          "text": [
            "[nltk_data] Downloading package wordnet to /root/nltk_data...\n",
            "[nltk_data]   Package wordnet is already up-to-date!\n"
          ],
          "name": "stdout"
        },
        {
          "output_type": "execute_result",
          "data": {
            "text/plain": [
              "[Synset('car.n.01')]"
            ]
          },
          "metadata": {
            "tags": []
          },
          "execution_count": 19
        }
      ]
    },
    {
      "cell_type": "code",
      "metadata": {
        "colab": {
          "base_uri": "https://localhost:8080/"
        },
        "id": "KcHGnDMKn5Wy",
        "outputId": "9c25d4b2-03a0-49f9-8a81-2b71eb8dfcf7"
      },
      "source": [
        "wn.synset('car.n.01').lemma_names()"
      ],
      "execution_count": 51,
      "outputs": [
        {
          "output_type": "execute_result",
          "data": {
            "text/plain": [
              "['car', 'auto', 'automobile', 'machine', 'motorcar']"
            ]
          },
          "metadata": {
            "tags": []
          },
          "execution_count": 51
        }
      ]
    },
    {
      "cell_type": "code",
      "metadata": {
        "colab": {
          "base_uri": "https://localhost:8080/"
        },
        "id": "jpKDoLauoMFJ",
        "outputId": "757b4517-3cdf-49e6-f5c5-b83539eb833e"
      },
      "source": [
        "# ambiguous word\n",
        "wn.synsets('light')"
      ],
      "execution_count": 43,
      "outputs": [
        {
          "output_type": "execute_result",
          "data": {
            "text/plain": [
              "[Synset('light.n.01'),\n",
              " Synset('light.n.02'),\n",
              " Synset('light.n.03'),\n",
              " Synset('luminosity.n.01'),\n",
              " Synset('light.n.05'),\n",
              " Synset('light.n.06'),\n",
              " Synset('light.n.07'),\n",
              " Synset('light.n.08'),\n",
              " Synset('light.n.09'),\n",
              " Synset('light.n.10'),\n",
              " Synset('sparkle.n.01'),\n",
              " Synset('light.n.12'),\n",
              " Synset('inner_light.n.01'),\n",
              " Synset('light.n.14'),\n",
              " Synset('lighter.n.02'),\n",
              " Synset('light.v.01'),\n",
              " Synset('light_up.v.05'),\n",
              " Synset('alight.v.01'),\n",
              " Synset('ignite.v.01'),\n",
              " Synset('fall.v.20'),\n",
              " Synset('unhorse.v.01'),\n",
              " Synset('light.a.01'),\n",
              " Synset('light.a.02'),\n",
              " Synset('light.a.03'),\n",
              " Synset('light.a.04'),\n",
              " Synset('light.a.05'),\n",
              " Synset('light.a.06'),\n",
              " Synset('unaccented.s.02'),\n",
              " Synset('light.s.08'),\n",
              " Synset('light.s.09'),\n",
              " Synset('clean.s.03'),\n",
              " Synset('light.s.11'),\n",
              " Synset('light.s.12'),\n",
              " Synset('light.a.13'),\n",
              " Synset('light.a.14'),\n",
              " Synset('faint.s.04'),\n",
              " Synset('light.s.16'),\n",
              " Synset('abstemious.s.02'),\n",
              " Synset('light.s.18'),\n",
              " Synset('light.s.19'),\n",
              " Synset('light.s.20'),\n",
              " Synset('idle.s.04'),\n",
              " Synset('light.s.22'),\n",
              " Synset('light.s.23'),\n",
              " Synset('light.s.24'),\n",
              " Synset('easy.s.10'),\n",
              " Synset('lightly.r.02')]"
            ]
          },
          "metadata": {
            "tags": []
          },
          "execution_count": 43
        }
      ]
    },
    {
      "cell_type": "code",
      "metadata": {
        "colab": {
          "base_uri": "https://localhost:8080/"
        },
        "id": "7WqUupoOoOuT",
        "outputId": "30ceecd5-c377-4dd8-9fe8-d837f733f382"
      },
      "source": [
        "for synset in wn.synsets('light'):\n",
        "    print(\"\\tLemma: {}\".format(synset.name()))\n",
        "    print(\"\\tDefinition: {}\".format(synset.definition()))\n",
        "    print(\"\\tExample: {}\".format(synset.examples()))\n",
        "    print()"
      ],
      "execution_count": 44,
      "outputs": [
        {
          "output_type": "stream",
          "text": [
            "\tLemma: light.n.01\n",
            "\tDefinition: (physics) electromagnetic radiation that can produce a visual sensation\n",
            "\tExample: ['the light was filtered through a soft glass window']\n",
            "\n",
            "\tLemma: light.n.02\n",
            "\tDefinition: any device serving as a source of illumination\n",
            "\tExample: ['he stopped the car and turned off the lights']\n",
            "\n",
            "\tLemma: light.n.03\n",
            "\tDefinition: a particular perspective or aspect of a situation\n",
            "\tExample: ['although he saw it in a different light, he still did not understand']\n",
            "\n",
            "\tLemma: luminosity.n.01\n",
            "\tDefinition: the quality of being luminous; emitting or reflecting light\n",
            "\tExample: ['its luminosity is measured relative to that of our sun']\n",
            "\n",
            "\tLemma: light.n.05\n",
            "\tDefinition: an illuminated area\n",
            "\tExample: ['he stepped into the light']\n",
            "\n",
            "\tLemma: light.n.06\n",
            "\tDefinition: a condition of spiritual awareness; divine illumination\n",
            "\tExample: [\"follow God's light\"]\n",
            "\n",
            "\tLemma: light.n.07\n",
            "\tDefinition: the visual effect of illumination on objects or scenes as created in pictures\n",
            "\tExample: ['he could paint the lightest light and the darkest dark']\n",
            "\n",
            "\tLemma: light.n.08\n",
            "\tDefinition: a person regarded very fondly\n",
            "\tExample: ['the light of my life']\n",
            "\n",
            "\tLemma: light.n.09\n",
            "\tDefinition: having abundant light or illumination\n",
            "\tExample: ['they played as long as it was light', 'as long as the lighting was good']\n",
            "\n",
            "\tLemma: light.n.10\n",
            "\tDefinition: mental understanding as an enlightening experience\n",
            "\tExample: ['he finally saw the light', 'can you shed light on this problem?']\n",
            "\n",
            "\tLemma: sparkle.n.01\n",
            "\tDefinition: merriment expressed by a brightness or gleam or animation of countenance\n",
            "\tExample: ['he had a sparkle in his eye', \"there's a perpetual twinkle in his eyes\"]\n",
            "\n",
            "\tLemma: light.n.12\n",
            "\tDefinition: public awareness\n",
            "\tExample: ['it brought the scandal to light']\n",
            "\n",
            "\tLemma: inner_light.n.01\n",
            "\tDefinition: a divine presence believed by Quakers to enlighten and guide the soul\n",
            "\tExample: []\n",
            "\n",
            "\tLemma: light.n.14\n",
            "\tDefinition: a visual warning signal\n",
            "\tExample: ['they saw the light of the beacon', 'there was a light at every corner']\n",
            "\n",
            "\tLemma: lighter.n.02\n",
            "\tDefinition: a device for lighting or igniting fuel or charges or fires\n",
            "\tExample: ['do you have a light?']\n",
            "\n",
            "\tLemma: light.v.01\n",
            "\tDefinition: make lighter or brighter\n",
            "\tExample: ['This lamp lightens the room a bit']\n",
            "\n",
            "\tLemma: light_up.v.05\n",
            "\tDefinition: begin to smoke\n",
            "\tExample: ['After the meal, some of the diners lit up']\n",
            "\n",
            "\tLemma: alight.v.01\n",
            "\tDefinition: to come to rest, settle\n",
            "\tExample: ['Misfortune lighted upon him']\n",
            "\n",
            "\tLemma: ignite.v.01\n",
            "\tDefinition: cause to start burning; subject to fire or great heat\n",
            "\tExample: ['Great heat can ignite almost any dry matter', 'Light a cigarette']\n",
            "\n",
            "\tLemma: fall.v.20\n",
            "\tDefinition: fall to somebody by assignment or lot\n",
            "\tExample: ['The task fell to me', 'It fell to me to notify the parents of the victims']\n",
            "\n",
            "\tLemma: unhorse.v.01\n",
            "\tDefinition: alight from (a horse)\n",
            "\tExample: []\n",
            "\n",
            "\tLemma: light.a.01\n",
            "\tDefinition: of comparatively little physical weight or density\n",
            "\tExample: ['a light load', 'magnesium is a light metal--having a specific gravity of 1.74 at 20 degrees C']\n",
            "\n",
            "\tLemma: light.a.02\n",
            "\tDefinition: (used of color) having a relatively small amount of coloring agent\n",
            "\tExample: ['light blue', 'light colors such as pastels', 'a light-colored powder']\n",
            "\n",
            "\tLemma: light.a.03\n",
            "\tDefinition: of the military or industry; using (or being) relatively small or light arms or equipment\n",
            "\tExample: ['light infantry', 'light cavalry', 'light industry', 'light weapons']\n",
            "\n",
            "\tLemma: light.a.04\n",
            "\tDefinition: not great in degree or quantity or number\n",
            "\tExample: ['a light sentence', 'a light accent', 'casualties were light', 'light snow was falling', 'light misty rain', 'light smoke from the chimney']\n",
            "\n",
            "\tLemma: light.a.05\n",
            "\tDefinition: psychologically light; especially free from sadness or troubles\n",
            "\tExample: ['a light heart']\n",
            "\n",
            "\tLemma: light.a.06\n",
            "\tDefinition: characterized by or emitting light\n",
            "\tExample: ['a room that is light when the shutters are open', 'the inside of the house was airy and light']\n",
            "\n",
            "\tLemma: unaccented.s.02\n",
            "\tDefinition: (used of vowels or syllables) pronounced with little or no stress\n",
            "\tExample: ['a syllable that ends in a short vowel is a light syllable', 'a weak stress on the second syllable']\n",
            "\n",
            "\tLemma: light.s.08\n",
            "\tDefinition: easily assimilated in the alimentary canal; not rich or heavily seasoned\n",
            "\tExample: ['a light diet']\n",
            "\n",
            "\tLemma: light.s.09\n",
            "\tDefinition: (used of soil) loose and large-grained in consistency\n",
            "\tExample: ['light soil']\n",
            "\n",
            "\tLemma: clean.s.03\n",
            "\tDefinition: (of sound or color) free from anything that dulls or dims\n",
            "\tExample: ['efforts to obtain a clean bass in orchestral recordings', 'clear laughter like a waterfall', 'clear reds and blues', 'a light lilting voice like a silver bell']\n",
            "\n",
            "\tLemma: light.s.11\n",
            "\tDefinition: moving easily and quickly; nimble\n",
            "\tExample: ['the dancer was light and graceful', 'a lightsome buoyant step', 'walked with a light tripping step']\n",
            "\n",
            "\tLemma: light.s.12\n",
            "\tDefinition: demanding little effort; not burdensome\n",
            "\tExample: ['light housework', 'light exercise']\n",
            "\n",
            "\tLemma: light.a.13\n",
            "\tDefinition: of little intensity or power or force\n",
            "\tExample: ['the light touch of her fingers', 'a light breeze']\n",
            "\n",
            "\tLemma: light.a.14\n",
            "\tDefinition: (physics, chemistry) not having atomic weight greater than average\n",
            "\tExample: ['light water is ordinary water']\n",
            "\n",
            "\tLemma: faint.s.04\n",
            "\tDefinition: weak and likely to lose consciousness\n",
            "\tExample: ['suddenly felt faint from the pain', 'was sick and faint from hunger', 'felt light in the head', 'a swooning fit', 'light-headed with wine', 'light-headed from lack of sleep']\n",
            "\n",
            "\tLemma: light.s.16\n",
            "\tDefinition: very thin and insubstantial\n",
            "\tExample: ['thin paper', 'light summer dresses']\n",
            "\n",
            "\tLemma: abstemious.s.02\n",
            "\tDefinition: marked by temperance in indulgence\n",
            "\tExample: ['abstemious with the use of adverbs', 'a light eater', 'a light smoker', 'ate a light supper']\n",
            "\n",
            "\tLemma: light.s.18\n",
            "\tDefinition: less than the correct or legal or full amount often deliberately so\n",
            "\tExample: ['a light pound', 'a scant cup of sugar', 'regularly gives short weight']\n",
            "\n",
            "\tLemma: light.s.19\n",
            "\tDefinition: having little importance\n",
            "\tExample: ['losing his job was no light matter']\n",
            "\n",
            "\tLemma: light.s.20\n",
            "\tDefinition: intended primarily as entertainment; not serious or profound\n",
            "\tExample: ['light verse', 'a light comedy']\n",
            "\n",
            "\tLemma: idle.s.04\n",
            "\tDefinition: silly or trivial\n",
            "\tExample: ['idle pleasure', 'light banter', 'light idle chatter']\n",
            "\n",
            "\tLemma: light.s.22\n",
            "\tDefinition: designed for ease of movement or to carry little weight\n",
            "\tExample: ['light aircraft', 'a light truck']\n",
            "\n",
            "\tLemma: light.s.23\n",
            "\tDefinition: having relatively few calories\n",
            "\tExample: ['diet cola', 'light (or lite) beer', 'lite (or light) mayonnaise', 'a low-cal diet']\n",
            "\n",
            "\tLemma: light.s.24\n",
            "\tDefinition: (of sleep) easily disturbed\n",
            "\tExample: ['in a light doze', 'a light sleeper', 'a restless wakeful night']\n",
            "\n",
            "\tLemma: easy.s.10\n",
            "\tDefinition: casual and unrestrained in sexual behavior\n",
            "\tExample: ['her easy virtue', 'he was told to avoid loose (or light) women', 'wanton behavior']\n",
            "\n",
            "\tLemma: lightly.r.02\n",
            "\tDefinition: with few burdens\n",
            "\tExample: ['experienced travellers travel light']\n",
            "\n"
          ],
          "name": "stdout"
        }
      ]
    },
    {
      "cell_type": "code",
      "metadata": {
        "colab": {
          "base_uri": "https://localhost:8080/"
        },
        "id": "_x2dtGxQoTn_",
        "outputId": "de596a73-5c38-47af-c098-68843c50961f"
      },
      "source": [
        "for synset in wn.synsets('light'):\n",
        "    print(synset.name(), ' -> ', synset.lemmas())"
      ],
      "execution_count": 45,
      "outputs": [
        {
          "output_type": "stream",
          "text": [
            "light.n.01  ->  [Lemma('light.n.01.light'), Lemma('light.n.01.visible_light'), Lemma('light.n.01.visible_radiation')]\n",
            "light.n.02  ->  [Lemma('light.n.02.light'), Lemma('light.n.02.light_source')]\n",
            "light.n.03  ->  [Lemma('light.n.03.light')]\n",
            "luminosity.n.01  ->  [Lemma('luminosity.n.01.luminosity'), Lemma('luminosity.n.01.brightness'), Lemma('luminosity.n.01.brightness_level'), Lemma('luminosity.n.01.luminance'), Lemma('luminosity.n.01.luminousness'), Lemma('luminosity.n.01.light')]\n",
            "light.n.05  ->  [Lemma('light.n.05.light')]\n",
            "light.n.06  ->  [Lemma('light.n.06.light'), Lemma('light.n.06.illumination')]\n",
            "light.n.07  ->  [Lemma('light.n.07.light'), Lemma('light.n.07.lightness')]\n",
            "light.n.08  ->  [Lemma('light.n.08.light')]\n",
            "light.n.09  ->  [Lemma('light.n.09.light'), Lemma('light.n.09.lighting')]\n",
            "light.n.10  ->  [Lemma('light.n.10.light')]\n",
            "sparkle.n.01  ->  [Lemma('sparkle.n.01.sparkle'), Lemma('sparkle.n.01.twinkle'), Lemma('sparkle.n.01.spark'), Lemma('sparkle.n.01.light')]\n",
            "light.n.12  ->  [Lemma('light.n.12.light')]\n",
            "inner_light.n.01  ->  [Lemma('inner_light.n.01.Inner_Light'), Lemma('inner_light.n.01.Light'), Lemma('inner_light.n.01.Light_Within'), Lemma('inner_light.n.01.Christ_Within')]\n",
            "light.n.14  ->  [Lemma('light.n.14.light')]\n",
            "lighter.n.02  ->  [Lemma('lighter.n.02.lighter'), Lemma('lighter.n.02.light'), Lemma('lighter.n.02.igniter'), Lemma('lighter.n.02.ignitor')]\n",
            "light.v.01  ->  [Lemma('light.v.01.light'), Lemma('light.v.01.illume'), Lemma('light.v.01.illumine'), Lemma('light.v.01.light_up'), Lemma('light.v.01.illuminate')]\n",
            "light_up.v.05  ->  [Lemma('light_up.v.05.light_up'), Lemma('light_up.v.05.fire_up'), Lemma('light_up.v.05.light')]\n",
            "alight.v.01  ->  [Lemma('alight.v.01.alight'), Lemma('alight.v.01.light'), Lemma('alight.v.01.perch')]\n",
            "ignite.v.01  ->  [Lemma('ignite.v.01.ignite'), Lemma('ignite.v.01.light')]\n",
            "fall.v.20  ->  [Lemma('fall.v.20.fall'), Lemma('fall.v.20.light')]\n",
            "unhorse.v.01  ->  [Lemma('unhorse.v.01.unhorse'), Lemma('unhorse.v.01.dismount'), Lemma('unhorse.v.01.light'), Lemma('unhorse.v.01.get_off'), Lemma('unhorse.v.01.get_down')]\n",
            "light.a.01  ->  [Lemma('light.a.01.light')]\n",
            "light.a.02  ->  [Lemma('light.a.02.light'), Lemma('light.a.02.light-colored')]\n",
            "light.a.03  ->  [Lemma('light.a.03.light')]\n",
            "light.a.04  ->  [Lemma('light.a.04.light')]\n",
            "light.a.05  ->  [Lemma('light.a.05.light')]\n",
            "light.a.06  ->  [Lemma('light.a.06.light')]\n",
            "unaccented.s.02  ->  [Lemma('unaccented.s.02.unaccented'), Lemma('unaccented.s.02.light'), Lemma('unaccented.s.02.weak')]\n",
            "light.s.08  ->  [Lemma('light.s.08.light')]\n",
            "light.s.09  ->  [Lemma('light.s.09.light')]\n",
            "clean.s.03  ->  [Lemma('clean.s.03.clean'), Lemma('clean.s.03.clear'), Lemma('clean.s.03.light'), Lemma('clean.s.03.unclouded')]\n",
            "light.s.11  ->  [Lemma('light.s.11.light'), Lemma('light.s.11.lightsome'), Lemma('light.s.11.tripping')]\n",
            "light.s.12  ->  [Lemma('light.s.12.light')]\n",
            "light.a.13  ->  [Lemma('light.a.13.light')]\n",
            "light.a.14  ->  [Lemma('light.a.14.light')]\n",
            "faint.s.04  ->  [Lemma('faint.s.04.faint'), Lemma('faint.s.04.light'), Lemma('faint.s.04.swooning'), Lemma('faint.s.04.light-headed'), Lemma('faint.s.04.lightheaded')]\n",
            "light.s.16  ->  [Lemma('light.s.16.light')]\n",
            "abstemious.s.02  ->  [Lemma('abstemious.s.02.abstemious'), Lemma('abstemious.s.02.light')]\n",
            "light.s.18  ->  [Lemma('light.s.18.light'), Lemma('light.s.18.scant'), Lemma('light.s.18.short')]\n",
            "light.s.19  ->  [Lemma('light.s.19.light')]\n",
            "light.s.20  ->  [Lemma('light.s.20.light')]\n",
            "idle.s.04  ->  [Lemma('idle.s.04.idle'), Lemma('idle.s.04.light')]\n",
            "light.s.22  ->  [Lemma('light.s.22.light')]\n",
            "light.s.23  ->  [Lemma('light.s.23.light'), Lemma('light.s.23.lite'), Lemma('light.s.23.low-cal'), Lemma('light.s.23.calorie-free')]\n",
            "light.s.24  ->  [Lemma('light.s.24.light'), Lemma('light.s.24.wakeful')]\n",
            "easy.s.10  ->  [Lemma('easy.s.10.easy'), Lemma('easy.s.10.light'), Lemma('easy.s.10.loose'), Lemma('easy.s.10.promiscuous'), Lemma('easy.s.10.sluttish'), Lemma('easy.s.10.wanton')]\n",
            "lightly.r.02  ->  [Lemma('lightly.r.02.lightly'), Lemma('lightly.r.02.light')]\n"
          ],
          "name": "stdout"
        }
      ]
    },
    {
      "cell_type": "markdown",
      "metadata": {
        "id": "4XDUSys4omJP"
      },
      "source": [
        "## Hyponym — a more specific concept\n"
      ]
    },
    {
      "cell_type": "code",
      "metadata": {
        "colab": {
          "base_uri": "https://localhost:8080/"
        },
        "id": "6lVDdLy9ofec",
        "outputId": "0448414c-ec88-49e5-aed8-02ada568d901"
      },
      "source": [
        "machine_that_prints = wn.synset('light.n.02')\n",
        "sorted([lemma.name() for synset in machine_that_prints.hyponyms() for lemma in synset.lemmas()])"
      ],
      "execution_count": 46,
      "outputs": [
        {
          "output_type": "execute_result",
          "data": {
            "text/plain": [
              "['anchor_light',\n",
              " 'blinker',\n",
              " 'fairy_light',\n",
              " 'flasher',\n",
              " 'flood',\n",
              " 'flood_lamp',\n",
              " 'floodlight',\n",
              " 'headlamp',\n",
              " 'headlight',\n",
              " 'houselights',\n",
              " 'jacklight',\n",
              " 'navigation_light',\n",
              " 'night-light',\n",
              " 'panel_light',\n",
              " 'photoflood',\n",
              " 'riding_lamp',\n",
              " 'riding_light',\n",
              " 'room_light',\n",
              " 'running_light',\n",
              " 'sconce',\n",
              " 'searchlight',\n",
              " 'sidelight',\n",
              " 'strip_lighting',\n",
              " 'theater_light',\n",
              " 'torch']"
            ]
          },
          "metadata": {
            "tags": []
          },
          "execution_count": 46
        }
      ]
    },
    {
      "cell_type": "markdown",
      "metadata": {
        "id": "DC1veAQoo-JY"
      },
      "source": [
        "## Hypernym — a more general concept.\n"
      ]
    },
    {
      "cell_type": "code",
      "metadata": {
        "colab": {
          "base_uri": "https://localhost:8080/"
        },
        "id": "ueou_tcmpDOZ",
        "outputId": "e78a9464-da9f-481e-f0b4-097581bcecd3"
      },
      "source": [
        "[lemma.name() for synset in  machine_that_prints.hypernyms() for lemma in synset.lemmas()]"
      ],
      "execution_count": 47,
      "outputs": [
        {
          "output_type": "execute_result",
          "data": {
            "text/plain": [
              "['source_of_illumination']"
            ]
          },
          "metadata": {
            "tags": []
          },
          "execution_count": 47
        }
      ]
    },
    {
      "cell_type": "code",
      "metadata": {
        "colab": {
          "base_uri": "https://localhost:8080/"
        },
        "id": "Ks6Gfnn6peXl",
        "outputId": "879fc434-9fe0-480d-f9b8-869a5b18c6ca"
      },
      "source": [
        "machine_that_prints.root_hypernyms()"
      ],
      "execution_count": 48,
      "outputs": [
        {
          "output_type": "execute_result",
          "data": {
            "text/plain": [
              "[Synset('entity.n.01')]"
            ]
          },
          "metadata": {
            "tags": []
          },
          "execution_count": 48
        }
      ]
    },
    {
      "cell_type": "code",
      "metadata": {
        "colab": {
          "base_uri": "https://localhost:8080/"
        },
        "id": "mW6uQHF1p2Dh",
        "outputId": "1477ad9d-b8af-439f-9786-6a6a0f7084bd"
      },
      "source": [
        "[synset.name() for synset in machine_that_prints.hypernym_paths()[0]]"
      ],
      "execution_count": 49,
      "outputs": [
        {
          "output_type": "execute_result",
          "data": {
            "text/plain": [
              "['entity.n.01',\n",
              " 'physical_entity.n.01',\n",
              " 'object.n.01',\n",
              " 'whole.n.02',\n",
              " 'artifact.n.01',\n",
              " 'instrumentality.n.03',\n",
              " 'device.n.01',\n",
              " 'source_of_illumination.n.01',\n",
              " 'light.n.02']"
            ]
          },
          "metadata": {
            "tags": []
          },
          "execution_count": 49
        }
      ]
    },
    {
      "cell_type": "markdown",
      "metadata": {
        "id": "NKvMsKE3qZoa"
      },
      "source": [
        "## Meronym — denotes a part of something\n"
      ]
    },
    {
      "cell_type": "code",
      "metadata": {
        "colab": {
          "base_uri": "https://localhost:8080/"
        },
        "id": "9D8IJ072p73B",
        "outputId": "5b30dc0f-13a2-4dc6-dede-8aa2166a556c"
      },
      "source": [
        "earth = wn.synset('earth.n.01')\n",
        "\n",
        "# part_meronyms() - obtains parts\n",
        "\n",
        "earth.part_meronyms()"
      ],
      "execution_count": 35,
      "outputs": [
        {
          "output_type": "execute_result",
          "data": {
            "text/plain": [
              "[Synset('atmosphere.n.03'),\n",
              " Synset('hemisphere.n.01'),\n",
              " Synset('hydrosphere.n.01'),\n",
              " Synset('land.n.04'),\n",
              " Synset('lithosphere.n.01'),\n",
              " Synset('sky.n.01'),\n",
              " Synset('van_allen_belt.n.01')]"
            ]
          },
          "metadata": {
            "tags": []
          },
          "execution_count": 35
        }
      ]
    },
    {
      "cell_type": "code",
      "metadata": {
        "colab": {
          "base_uri": "https://localhost:8080/"
        },
        "id": "mBQMp4iaqyBI",
        "outputId": "d34706e8-7cdf-4fd2-dfba-b9a7f63ec203"
      },
      "source": [
        "# substance_meronyms() - obtains substances\n",
        "tree = wn.synset('tree.n.01')\n",
        "tree.substance_meronyms()"
      ],
      "execution_count": 36,
      "outputs": [
        {
          "output_type": "execute_result",
          "data": {
            "text/plain": [
              "[Synset('heartwood.n.01'), Synset('sapwood.n.01')]"
            ]
          },
          "metadata": {
            "tags": []
          },
          "execution_count": 36
        }
      ]
    },
    {
      "cell_type": "markdown",
      "metadata": {
        "id": "We0TX_JkrPH0"
      },
      "source": [
        "## Holonym — denotes a membership to something"
      ]
    },
    {
      "cell_type": "code",
      "metadata": {
        "colab": {
          "base_uri": "https://localhost:8080/"
        },
        "id": "jqrYiqxqq3NA",
        "outputId": "d9579be6-6b86-43dd-df18-ca2da0becfcb"
      },
      "source": [
        "wn.synset('atom.n.01').part_holonyms()"
      ],
      "execution_count": 29,
      "outputs": [
        {
          "output_type": "execute_result",
          "data": {
            "text/plain": [
              "[Synset('chemical_element.n.01'), Synset('molecule.n.01')]"
            ]
          },
          "metadata": {
            "tags": []
          },
          "execution_count": 29
        }
      ]
    },
    {
      "cell_type": "code",
      "metadata": {
        "colab": {
          "base_uri": "https://localhost:8080/"
        },
        "id": "TKGcguEirlwu",
        "outputId": "b13224ee-f7f2-4c9f-da93-034ab2fb8676"
      },
      "source": [
        "wn.synset('oxygen.n.01').substance_holonyms()"
      ],
      "execution_count": 25,
      "outputs": [
        {
          "output_type": "execute_result",
          "data": {
            "text/plain": [
              "[Synset('air.n.01'), Synset('ozone.n.01'), Synset('water.n.01')]"
            ]
          },
          "metadata": {
            "tags": []
          },
          "execution_count": 25
        }
      ]
    },
    {
      "cell_type": "markdown",
      "metadata": {
        "id": "tRzRx9kNr7QA"
      },
      "source": [
        "## Entailment — denotes how verbs are involved"
      ]
    },
    {
      "cell_type": "code",
      "metadata": {
        "colab": {
          "base_uri": "https://localhost:8080/"
        },
        "id": "hNnOyDH4roR_",
        "outputId": "836fae32-1f99-48f7-d4ca-15e2f3c84d16"
      },
      "source": [
        "wn.synset('breathe.v.01').entailments()"
      ],
      "execution_count": 24,
      "outputs": [
        {
          "output_type": "execute_result",
          "data": {
            "text/plain": [
              "[Synset('exhale.v.01'), Synset('inhale.v.02')]"
            ]
          },
          "metadata": {
            "tags": []
          },
          "execution_count": 24
        }
      ]
    },
    {
      "cell_type": "code",
      "metadata": {
        "id": "DX5sFrtZ_oS9"
      },
      "source": [
        ""
      ],
      "execution_count": 15,
      "outputs": []
    }
  ]
}